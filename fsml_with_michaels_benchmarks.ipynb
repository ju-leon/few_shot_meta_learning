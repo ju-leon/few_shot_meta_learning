{
 "cells": [
  {
   "cell_type": "code",
   "execution_count": 1,
   "id": "722e99ff",
   "metadata": {},
   "outputs": [],
   "source": [
    "import torch\n",
    "import os\n",
    "import numpy as np\n",
    "from copy import deepcopy\n",
    "from few_shot_meta_learning.fsml.HyperNetClasses import IdentityNet, NormalVariationalNet\n",
    "from few_shot_meta_learning.fsml.RegressionDataset import SineDataset, LineDataset\n",
    "from few_shot_meta_learning.fsml._utils import train_val_split_regression\n",
    "from matplotlib import pyplot as plt\n",
    "%matplotlib inline\n",
    "from few_shot_meta_learning.fsml.algorithms.Maml import Maml"
   ]
  },
  {
   "cell_type": "code",
   "execution_count": 2,
   "id": "f6b14d7c",
   "metadata": {},
   "outputs": [],
   "source": [
    "from few_shot_meta_learning.benchmark_dataloader import create_benchmark_dataloaders\n",
    "\n",
    "michael_config = {}\n",
    "michael_config['bm'] = 'Quadratic1D' # Sinusoid1D, Affine1D\n",
    "michael_config['noise_stddev'] = 0.01\n",
    "michael_config['n_tasks_meta'] = 8 \n",
    "michael_config['n_points_per_task_meta'] = 16 \n",
    "michael_config['n_tasks_test'] = 128\n",
    "michael_config['n_points_per_task_test'] = 128 \n",
    "michael_config['seed_offset_train'] = 1234 \n",
    "michael_config['seed_offset_test'] = 1235 \n",
    "michael_config['normalize_bm'] = True # not used right now\n",
    "michael_config['n_points_pred'] = 100 # not used right now\n",
    "# training\n",
    "michael_config['n_epochs'] = 500\n",
    "michael_config['adapt_lr'] = 0.01\n",
    "michael_config['meta_lr'] = 0.001\n",
    "michael_config['n_adapt_steps'] = 5\n",
    "michael_config['n_context_meta'] = 8\n",
    "\n",
    "train_dataloader, test_dataloader = create_benchmark_dataloaders(michael_config)"
   ]
  },
  {
   "cell_type": "code",
   "execution_count": 3,
   "id": "849dcd98",
   "metadata": {},
   "outputs": [
    {
     "name": "stderr",
     "output_type": "stream",
     "text": [
      "Failed to detect the name of this notebook, you can set it manually with the WANDB_NOTEBOOK_NAME environment variable to enable code saving.\n",
      "\u001b[34m\u001b[1mwandb\u001b[0m: Currently logged in as: \u001b[33mleonjungemeyer\u001b[0m (use `wandb login --relogin` to force relogin)\n"
     ]
    },
    {
     "data": {
      "text/html": [
       "\n",
       "                    Syncing run <strong><a href=\"https://wandb.ai/leonjungemeyer/fsml_maml/runs/fjiog6st\" target=\"_blank\">devoted-sky-12</a></strong> to <a href=\"https://wandb.ai/leonjungemeyer/fsml_maml\" target=\"_blank\">Weights & Biases</a> (<a href=\"https://docs.wandb.com/integrations/jupyter.html\" target=\"_blank\">docs</a>).<br/>\n",
       "\n",
       "                "
      ],
      "text/plain": [
       "<IPython.core.display.HTML object>"
      ]
     },
     "metadata": {},
     "output_type": "display_data"
    },
    {
     "name": "stdout",
     "output_type": "stream",
     "text": [
      "Training is started.\n",
      "Log is stored at ./saved_models/fsml/maml/FcNet.\n",
      "\n",
      "Number of parameters of the base network = 1,761.\n",
      "\n"
     ]
    },
    {
     "name": "stderr",
     "output_type": "stream",
     "text": [
      "/Users/leonjungemeyer/opt/anaconda3/envs/meta/lib/python3.9/site-packages/torch/nn/modules/lazy.py:178: UserWarning: Lazy modules are a new feature under heavy development so changes to the API or functionality can happen at any moment.\n",
      "  warnings.warn('Lazy modules are a new feature under heavy development '\n"
     ]
    },
    {
     "name": "stdout",
     "output_type": "stream",
     "text": [
      "State dictionaries are saved into ./saved_models/fsml/maml/FcNet/Epoch_100.pt\n",
      "\n",
      "State dictionaries are saved into ./saved_models/fsml/maml/FcNet/Epoch_200.pt\n",
      "\n",
      "State dictionaries are saved into ./saved_models/fsml/maml/FcNet/Epoch_300.pt\n",
      "\n",
      "State dictionaries are saved into ./saved_models/fsml/maml/FcNet/Epoch_400.pt\n",
      "\n",
      "State dictionaries are saved into ./saved_models/fsml/maml/FcNet/Epoch_500.pt\n",
      "\n",
      "Training is completed.\n"
     ]
    }
   ],
   "source": [
    "config = {}\n",
    "\n",
    "config['resume_epoch'] = 0\n",
    "config['network_architecture'] = 'FcNet'\n",
    "config['logdir'] = os.path.join('.', 'saved_models', 'fsml', 'maml', config['network_architecture'])\n",
    "\n",
    "#config['datasource'] = ['SineLine']\n",
    "config['num_ways'] = 1\n",
    "config['k_shot'] = michael_config['n_context_meta']\n",
    "config['v_shot'] = 10\n",
    "config['num_models'] = 16\n",
    "config['KL_weight'] = 1e-5\n",
    "\n",
    "config['inner_lr'] = michael_config['adapt_lr']\n",
    "config['num_inner_updates'] = michael_config['n_adapt_steps']\n",
    "config['meta_lr'] = michael_config['meta_lr']\n",
    "\n",
    "config['train_flag'] = False\n",
    "config['num_episodes'] = 100 # for testing only\n",
    "config['resume_epoch'] = 0\n",
    "config['num_epochs'] = michael_config['n_epochs']\n",
    "config['num_episodes_per_epoch'] = michael_config['n_tasks_meta']\n",
    "config['minibatch'] = michael_config['n_tasks_meta']\n",
    "config['minibatch_print'] = 1\n",
    "\n",
    "# TODO\n",
    "config['device'] = torch.device('cuda:0' if torch.cuda.is_available() else torch.device('cpu'))\n",
    "\n",
    "config['loss_function'] = torch.nn.MSELoss()\n",
    "config['train_val_split_function'] = train_val_split_regression\n",
    "\n",
    "config['first_order'] = True\n",
    "\n",
    "config['wandb'] = True\n",
    "config['algorithm'] = 'maml'\n",
    "\n",
    "maml = Maml(config)\n",
    "maml.train(train_dataloader=train_dataloader, val_dataloader=None)\n",
    "#model['f_base_net'].eval()"
   ]
  },
  {
   "cell_type": "code",
   "execution_count": 17,
   "id": "735dcb10",
   "metadata": {},
   "outputs": [
    {
     "name": "stdout",
     "output_type": "stream",
     "text": [
      "Number of parameters of the base network = 1,761.\n",
      "\n"
     ]
    },
    {
     "name": "stderr",
     "output_type": "stream",
     "text": [
      "/Users/leonjungemeyer/opt/anaconda3/envs/meta/lib/python3.9/site-packages/torch/nn/modules/lazy.py:178: UserWarning: Lazy modules are a new feature under heavy development so changes to the API or functionality can happen at any moment.\n",
      "  warnings.warn('Lazy modules are a new feature under heavy development '\n"
     ]
    }
   ],
   "source": [
    "resume_maml = 500\n",
    "model = maml.load_model(resume_epoch=resume_maml, eps_dataloader=train_dataloader, hyper_net_class=IdentityNet)"
   ]
  },
  {
   "cell_type": "code",
   "execution_count": 18,
   "id": "1b028d44",
   "metadata": {},
   "outputs": [
    {
     "data": {
      "image/png": "[encoded data removed]",
      "text/plain": [
       "<Figure size 288x288 with 1 Axes>"
      ]
     },
     "metadata": {
      "needs_background": "light"
     },
     "output_type": "display_data"
    }
   ],
   "source": [
    "test_task_data = test_dataloader.dataset[13]\n",
    "x_test, sort_indices = torch.sort(test_task_data[0])\n",
    "y_test = test_task_data[1][sort_indices]\n",
    "\n",
    "split_data = config['train_val_split_function'](eps_data=test_task_data, k_shot=config['k_shot'])\n",
    "\n",
    "# move data to GPU (if there is a GPU)\n",
    "x_t = split_data['x_t'].to(config['device']) # k_shot=8 \n",
    "y_t = split_data['y_t'].to(config['device']) # k_shot=8\n",
    "\n",
    "# MAML\n",
    "adapted_hyper_net = maml.adaptation(x=x_t[:, None], y=y_t[:, None], model=model)\n",
    "y_maml = maml.prediction(x=x_test[:, None], adapted_hyper_net=adapted_hyper_net, model=model)\n",
    "\n",
    "# plot\n",
    "plt.figure(figsize=(4, 4))\n",
    "plt.scatter(x=x_t.cpu().numpy(), y=y_t.cpu().numpy(), s=80, marker='^', color='C0') # samples \n",
    "plt.plot(x_test.cpu().numpy(), y_test, color='black', linewidth=1, linestyle='-') # true task data\n",
    "plt.plot(x_test.cpu().numpy(), y_maml.detach().cpu().numpy(), color='C2', linestyle='--')\n",
    "plt.xlabel('x')\n",
    "plt.ylabel('y')\n",
    "plt.tight_layout()\n",
    "\n",
    "plt.show()"
   ]
  }
 ],
 "metadata": {
  "interpreter": {
   "hash": "ee43306e2eb3eb876552b3ebea8ca470acdfc6e8efcd85ec9cc70afee3fad0d5"
  },
  "kernelspec": {
   "display_name": "Python 3.9.7 64-bit ('meta': conda)",
   "name": "python3"
  },
  "language_info": {
   "codemirror_mode": {
    "name": "ipython",
    "version": 3
   },
   "file_extension": ".py",
   "mimetype": "text/x-python",
   "name": "python",
   "nbconvert_exporter": "python",
   "pygments_lexer": "ipython3",
   "version": "3.9.7"
  }
 },
 "nbformat": 4,
 "nbformat_minor": 5
}
